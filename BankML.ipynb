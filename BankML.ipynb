{
 "cells": [
  {
   "cell_type": "markdown",
   "id": "30c92e68-29ed-4389-b9f9-cd9cad173c27",
   "metadata": {},
   "source": [
    "# Imports"
   ]
  },
  {
   "cell_type": "code",
   "execution_count": 1,
   "id": "7eb3d7a7-cffa-4900-b734-ded0ca104a53",
   "metadata": {
    "tags": []
   },
   "outputs": [],
   "source": [
    "import sagemaker\n",
    "import boto3\n",
    "from sagemaker.predictor import Predictor\n",
    "import pandas as pd\n",
    "import numpy as np\n",
    "from urllib import request\n",
    "import os"
   ]
  },
  {
   "cell_type": "markdown",
   "id": "ca69496f-a2fb-44e8-a893-abd7b7db20a2",
   "metadata": {},
   "source": [
    "# Create the S3 bucket"
   ]
  },
  {
   "cell_type": "code",
   "execution_count": 2,
   "id": "da067113-451f-4a76-ba34-3d9fa7fbf636",
   "metadata": {
    "tags": []
   },
   "outputs": [
    {
     "name": "stdout",
     "output_type": "stream",
     "text": [
      "eu-north-1\n"
     ]
    }
   ],
   "source": [
    "bucket_name = 'newbucket'  # add bucket name\n",
    "my_region = boto3.session.Session().region_name\n",
    "print(my_region)"
   ]
  },
  {
   "cell_type": "code",
   "execution_count": 3,
   "id": "5a7430ae-aef5-4be5-aae5-6e9ca17df007",
   "metadata": {
    "tags": []
   },
   "outputs": [
    {
     "name": "stdout",
     "output_type": "stream",
     "text": [
      "S3 error: An error occurred (BucketAlreadyOwnedByYou) when calling the CreateBucket operation: Your previous request to create the named bucket succeeded and you already own it.\n"
     ]
    }
   ],
   "source": [
    "s3 = boto3.resource('s3')\n",
    "try:\n",
    "    if my_region == 'eu-north-1':\n",
    "        s3.create_bucket(Bucket=bucket_name, \n",
    "                         CreateBucketConfiguration={\n",
    "                             'LocationConstraint': 'eu-north-1'})\n",
    "    print('S3 bucket created')\n",
    "except Exception as e:\n",
    "    print(f'S3 error: {e}')"
   ]
  },
  {
   "cell_type": "code",
   "execution_count": 4,
   "id": "f62e7cf9-3aa4-4839-ad14-343c692b749c",
   "metadata": {
    "tags": []
   },
   "outputs": [
    {
     "name": "stdout",
     "output_type": "stream",
     "text": [
      "s3://newbucket-199/xgboost-algo/output\n"
     ]
    }
   ],
   "source": [
    "prefix = 'xgboost-algo'\n",
    "output_path = f\"s3://{bucket_name}/{prefix}/output\"\n",
    "print(output_path)"
   ]
  },
  {
   "cell_type": "markdown",
   "id": "f820afbd-d314-4401-b7d8-a4ef45ab4ee5",
   "metadata": {},
   "source": [
    "## Download the Dataset and store to S3"
   ]
  },
  {
   "cell_type": "markdown",
   "id": "2ffcec31-aaf9-40e0-8557-71ee991c330e",
   "metadata": {},
   "source": [
    "#### Download the Dataset and create a Dataframe"
   ]
  },
  {
   "cell_type": "code",
   "execution_count": 5,
   "id": "f6670a53-06ef-4975-8d4b-545f901bd18c",
   "metadata": {
    "tags": []
   },
   "outputs": [
    {
     "name": "stdout",
     "output_type": "stream",
     "text": [
      "The bank_clean.csv was downloaded .\n",
      "Dataframe was created\n"
     ]
    }
   ],
   "source": [
    "try:\n",
    "    request.urlretrieve(\n",
    "        \"https://d1.awsstatic.com/tmt/build-train-deploy-machine-learning-model-sagemaker/bank_clean.27f01fbbdf43271788427f3682996ae29ceca05d.csv\",\n",
    "        \"bank_clean.csv\")\n",
    "    print('The bank_clean.csv was downloaded .')\n",
    "except Exception as e:\n",
    "    print('Data load error: ', e)\n",
    "\n",
    "try:\n",
    "    df = pd.read_csv('./bank_clean.csv', index_col=0)\n",
    "    print('Dataframe was created')\n",
    "except Exception as e:\n",
    "    print('Data load error: ', e)"
   ]
  },
  {
   "cell_type": "code",
   "execution_count": 6,
   "id": "ff11414b-aee3-4b5c-91b9-73ca0ba0f359",
   "metadata": {
    "tags": []
   },
   "outputs": [
    {
     "data": {
      "text/html": [
       "<div>\n",
       "<style scoped>\n",
       "    .dataframe tbody tr th:only-of-type {\n",
       "        vertical-align: middle;\n",
       "    }\n",
       "\n",
       "    .dataframe tbody tr th {\n",
       "        vertical-align: top;\n",
       "    }\n",
       "\n",
       "    .dataframe thead th {\n",
       "        text-align: right;\n",
       "    }\n",
       "</style>\n",
       "<table border=\"1\" class=\"dataframe\">\n",
       "  <thead>\n",
       "    <tr style=\"text-align: right;\">\n",
       "      <th></th>\n",
       "      <th>age</th>\n",
       "      <th>campaign</th>\n",
       "      <th>pdays</th>\n",
       "      <th>previous</th>\n",
       "      <th>no_previous_contact</th>\n",
       "      <th>not_working</th>\n",
       "      <th>job_admin.</th>\n",
       "      <th>job_blue-collar</th>\n",
       "      <th>job_entrepreneur</th>\n",
       "      <th>job_housemaid</th>\n",
       "      <th>...</th>\n",
       "      <th>day_of_week_fri</th>\n",
       "      <th>day_of_week_mon</th>\n",
       "      <th>day_of_week_thu</th>\n",
       "      <th>day_of_week_tue</th>\n",
       "      <th>day_of_week_wed</th>\n",
       "      <th>poutcome_failure</th>\n",
       "      <th>poutcome_nonexistent</th>\n",
       "      <th>poutcome_success</th>\n",
       "      <th>y_no</th>\n",
       "      <th>y_yes</th>\n",
       "    </tr>\n",
       "  </thead>\n",
       "  <tbody>\n",
       "    <tr>\n",
       "      <th>0</th>\n",
       "      <td>56</td>\n",
       "      <td>1</td>\n",
       "      <td>999</td>\n",
       "      <td>0</td>\n",
       "      <td>1</td>\n",
       "      <td>0</td>\n",
       "      <td>0</td>\n",
       "      <td>0</td>\n",
       "      <td>0</td>\n",
       "      <td>1</td>\n",
       "      <td>...</td>\n",
       "      <td>0</td>\n",
       "      <td>1</td>\n",
       "      <td>0</td>\n",
       "      <td>0</td>\n",
       "      <td>0</td>\n",
       "      <td>0</td>\n",
       "      <td>1</td>\n",
       "      <td>0</td>\n",
       "      <td>1</td>\n",
       "      <td>0</td>\n",
       "    </tr>\n",
       "    <tr>\n",
       "      <th>1</th>\n",
       "      <td>57</td>\n",
       "      <td>1</td>\n",
       "      <td>999</td>\n",
       "      <td>0</td>\n",
       "      <td>1</td>\n",
       "      <td>0</td>\n",
       "      <td>0</td>\n",
       "      <td>0</td>\n",
       "      <td>0</td>\n",
       "      <td>0</td>\n",
       "      <td>...</td>\n",
       "      <td>0</td>\n",
       "      <td>1</td>\n",
       "      <td>0</td>\n",
       "      <td>0</td>\n",
       "      <td>0</td>\n",
       "      <td>0</td>\n",
       "      <td>1</td>\n",
       "      <td>0</td>\n",
       "      <td>1</td>\n",
       "      <td>0</td>\n",
       "    </tr>\n",
       "    <tr>\n",
       "      <th>2</th>\n",
       "      <td>37</td>\n",
       "      <td>1</td>\n",
       "      <td>999</td>\n",
       "      <td>0</td>\n",
       "      <td>1</td>\n",
       "      <td>0</td>\n",
       "      <td>0</td>\n",
       "      <td>0</td>\n",
       "      <td>0</td>\n",
       "      <td>0</td>\n",
       "      <td>...</td>\n",
       "      <td>0</td>\n",
       "      <td>1</td>\n",
       "      <td>0</td>\n",
       "      <td>0</td>\n",
       "      <td>0</td>\n",
       "      <td>0</td>\n",
       "      <td>1</td>\n",
       "      <td>0</td>\n",
       "      <td>1</td>\n",
       "      <td>0</td>\n",
       "    </tr>\n",
       "    <tr>\n",
       "      <th>3</th>\n",
       "      <td>40</td>\n",
       "      <td>1</td>\n",
       "      <td>999</td>\n",
       "      <td>0</td>\n",
       "      <td>1</td>\n",
       "      <td>0</td>\n",
       "      <td>1</td>\n",
       "      <td>0</td>\n",
       "      <td>0</td>\n",
       "      <td>0</td>\n",
       "      <td>...</td>\n",
       "      <td>0</td>\n",
       "      <td>1</td>\n",
       "      <td>0</td>\n",
       "      <td>0</td>\n",
       "      <td>0</td>\n",
       "      <td>0</td>\n",
       "      <td>1</td>\n",
       "      <td>0</td>\n",
       "      <td>1</td>\n",
       "      <td>0</td>\n",
       "    </tr>\n",
       "    <tr>\n",
       "      <th>4</th>\n",
       "      <td>56</td>\n",
       "      <td>1</td>\n",
       "      <td>999</td>\n",
       "      <td>0</td>\n",
       "      <td>1</td>\n",
       "      <td>0</td>\n",
       "      <td>0</td>\n",
       "      <td>0</td>\n",
       "      <td>0</td>\n",
       "      <td>0</td>\n",
       "      <td>...</td>\n",
       "      <td>0</td>\n",
       "      <td>1</td>\n",
       "      <td>0</td>\n",
       "      <td>0</td>\n",
       "      <td>0</td>\n",
       "      <td>0</td>\n",
       "      <td>1</td>\n",
       "      <td>0</td>\n",
       "      <td>1</td>\n",
       "      <td>0</td>\n",
       "    </tr>\n",
       "  </tbody>\n",
       "</table>\n",
       "<p>5 rows × 61 columns</p>\n",
       "</div>"
      ],
      "text/plain": [
       "   age  campaign  pdays  previous  no_previous_contact  not_working   \n",
       "0   56         1    999         0                    1            0  \\\n",
       "1   57         1    999         0                    1            0   \n",
       "2   37         1    999         0                    1            0   \n",
       "3   40         1    999         0                    1            0   \n",
       "4   56         1    999         0                    1            0   \n",
       "\n",
       "   job_admin.  job_blue-collar  job_entrepreneur  job_housemaid  ...   \n",
       "0           0                0                 0              1  ...  \\\n",
       "1           0                0                 0              0  ...   \n",
       "2           0                0                 0              0  ...   \n",
       "3           1                0                 0              0  ...   \n",
       "4           0                0                 0              0  ...   \n",
       "\n",
       "   day_of_week_fri  day_of_week_mon  day_of_week_thu  day_of_week_tue   \n",
       "0                0                1                0                0  \\\n",
       "1                0                1                0                0   \n",
       "2                0                1                0                0   \n",
       "3                0                1                0                0   \n",
       "4                0                1                0                0   \n",
       "\n",
       "   day_of_week_wed  poutcome_failure  poutcome_nonexistent  poutcome_success   \n",
       "0                0                 0                     1                 0  \\\n",
       "1                0                 0                     1                 0   \n",
       "2                0                 0                     1                 0   \n",
       "3                0                 0                     1                 0   \n",
       "4                0                 0                     1                 0   \n",
       "\n",
       "   y_no  y_yes  \n",
       "0     1      0  \n",
       "1     1      0  \n",
       "2     1      0  \n",
       "3     1      0  \n",
       "4     1      0  \n",
       "\n",
       "[5 rows x 61 columns]"
      ]
     },
     "execution_count": 6,
     "metadata": {},
     "output_type": "execute_result"
    }
   ],
   "source": [
    "df.head()"
   ]
  },
  {
   "cell_type": "markdown",
   "id": "e1d95467-e27b-4a4c-8f53-99e804e0e2ec",
   "metadata": {},
   "source": [
    "#### Split the Data into train and test"
   ]
  },
  {
   "cell_type": "code",
   "execution_count": 7,
   "id": "4340f08b-7984-42bf-906b-428267b2a10e",
   "metadata": {
    "tags": []
   },
   "outputs": [
    {
     "name": "stdout",
     "output_type": "stream",
     "text": [
      "(28831, 61) (12357, 61)\n"
     ]
    }
   ],
   "source": [
    "# Train Test split\n",
    "\n",
    "splitting_index = int(len(df) * 0.7)  # 0.7 = 70 % for train\n",
    "\n",
    "train_data, test_data = np.split(df.sample(frac=1, random_state=42),\n",
    "                                 [splitting_index])\n",
    "\n",
    "print(train_data.shape, test_data.shape)"
   ]
  },
  {
   "cell_type": "code",
   "execution_count": 8,
   "id": "d7d1e445-87c9-4255-9c21-2301cffa76cd",
   "metadata": {
    "tags": []
   },
   "outputs": [],
   "source": [
    "# Train Data to CSV\n",
    "\n",
    "# make the target (y) column first\n",
    "train_csv = pd.concat([train_data['y_yes'],\n",
    "                       train_data.drop(['y_no', 'y_yes'], axis=1)], axis=1)\n",
    "\n",
    "# save to csv and drop index and headers\n",
    "train_csv.to_csv('train.csv', index=False, header=False)\n",
    "\n",
    "# Test Data to CSV\n",
    "\n",
    "# make the target (y) column first\n",
    "test_csv = pd.concat([test_data['y_yes'],\n",
    "                      test_data.drop(['y_no', 'y_yes'], axis=1)], axis=1)\n",
    "\n",
    "# save to csv and drop index and headers\n",
    "test_csv.to_csv('test.csv', index=False, header=False)\n"
   ]
  },
  {
   "cell_type": "markdown",
   "id": "4a56d6c7-a0ac-40ff-9e05-d27262c05316",
   "metadata": {},
   "source": [
    "#### Upload the train.csv and test.csv to S3"
   ]
  },
  {
   "cell_type": "code",
   "execution_count": 9,
   "id": "5e65960b-16e3-4b92-8fcc-975d98e79d6b",
   "metadata": {
    "tags": []
   },
   "outputs": [],
   "source": [
    "# Upload CSVs to S3 bucket\n",
    "\n",
    "# train.csv\n",
    "boto3.Session().resource('s3').Bucket(bucket_name).Object(\n",
    "    os.path.join(prefix, 'train/train.csv')).upload_file('train.csv')\n",
    "\n",
    "s3_input_train = sagemaker.inputs.TrainingInput(\n",
    "    s3_data=f\"s3://{bucket_name}/{prefix}/train\",\n",
    "    content_type='csv')\n",
    "\n",
    "# test.csv\n",
    "boto3.Session().resource('s3').Bucket(bucket_name).Object(\n",
    "    os.path.join(prefix, 'test/test.csv')).upload_file('test.csv')\n",
    "\n",
    "s3_input_test = sagemaker.inputs.TrainingInput(\n",
    "    s3_data=f\"s3://{bucket_name}/{prefix}/test\",\n",
    "    content_type='csv')"
   ]
  },
  {
   "cell_type": "markdown",
   "id": "7965be5d-36cd-494a-8936-0bf8f788f3d9",
   "metadata": {},
   "source": [
    "## Model: XGboost"
   ]
  },
  {
   "cell_type": "markdown",
   "id": "0108375b-8df4-48aa-b25f-ca6271360aa3",
   "metadata": {},
   "source": [
    "#### Initiate the model and estimator"
   ]
  },
  {
   "cell_type": "code",
   "execution_count": 10,
   "id": "ccf53856-cdcc-457d-a39f-f32663b4c459",
   "metadata": {
    "tags": []
   },
   "outputs": [],
   "source": [
    "# this line automatically looks for the XGBoost image URI and builds an XGBoost container.\n",
    "# specify the repo_version depending on your preference.\n",
    "xgboost_container = sagemaker.image_uris.retrieve(\"xgboost\",\n",
    "                                                  my_region,\n",
    "                                                  \"1.7-1\")\n",
    "# initialize hyperparameters\n",
    "hyperparameters = {\n",
    "        \"max_depth\": \"5\",\n",
    "        \"eta\": \"0.2\",\n",
    "        \"gamma\": \"4\",\n",
    "        \"min_child_weight\": \"6\",\n",
    "        \"subsample\": \"0.7\",\n",
    "        \"objective\": \"binary:logistic\",\n",
    "        \"num_round\": \"50\"\n",
    "}\n"
   ]
  },
  {
   "cell_type": "code",
   "execution_count": 11,
   "id": "59067553-8828-42e6-88b5-11d7e088538f",
   "metadata": {
    "tags": []
   },
   "outputs": [],
   "source": [
    "# construct a SageMaker estimator that calls the xgboost-container\n",
    "\n",
    "estimator = sagemaker.estimator.Estimator(image_uri=xgboost_container,\n",
    "                                          hyperparameters=hyperparameters,\n",
    "                                          role=sagemaker.get_execution_role(),\n",
    "                                          instance_count=1,\n",
    "                                          instance_type='ml.m5.xlarge',\n",
    "                                          volume_size=5,  # 5GB\n",
    "                                          output_path=output_path,\n",
    "                                          use_spot_instances=True,\n",
    "                                          max_run=300,\n",
    "                                          max_wait=600)"
   ]
  },
  {
   "cell_type": "markdown",
   "id": "4fbee548-e14a-4628-b9e2-7c8fc3509645",
   "metadata": {},
   "source": [
    "#### Train the model"
   ]
  },
  {
   "cell_type": "code",
   "execution_count": 12,
   "id": "6c50dbab-0ac1-4deb-a413-47fd5f7c0160",
   "metadata": {
    "tags": []
   },
   "outputs": [
    {
     "name": "stderr",
     "output_type": "stream",
     "text": [
      "INFO:sagemaker:Creating training-job with name: sagemaker-xgboost-2023-07-26-11-37-53-555\n"
     ]
    },
    {
     "name": "stdout",
     "output_type": "stream",
     "text": [
      "2023-07-26 11:37:53 Starting - Starting the training job...\n",
      "2023-07-26 11:38:08 Starting - Preparing the instances for training.........\n",
      "2023-07-26 11:39:42 Downloading - Downloading input data...\n",
      "2023-07-26 11:40:07 Training - Downloading the training image...\n",
      "2023-07-26 11:40:48 Uploading - Uploading generated training model\u001b[34m[2023-07-26 11:40:42.155 ip-10-0-185-208.eu-north-1.compute.internal:7 INFO utils.py:28] RULE_JOB_STOP_SIGNAL_FILENAME: None\u001b[0m\n",
      "\u001b[34m[2023-07-26 11:40:42.179 ip-10-0-185-208.eu-north-1.compute.internal:7 INFO profiler_config_parser.py:111] User has disabled profiler.\u001b[0m\n",
      "\u001b[34m[2023-07-26:11:40:42:INFO] Imported framework sagemaker_xgboost_container.training\u001b[0m\n",
      "\u001b[34m[2023-07-26:11:40:42:INFO] Failed to parse hyperparameter objective value binary:logistic to Json.\u001b[0m\n",
      "\u001b[34mReturning the value itself\u001b[0m\n",
      "\u001b[34m[2023-07-26:11:40:42:INFO] No GPUs detected (normal if no gpus installed)\u001b[0m\n",
      "\u001b[34m[2023-07-26:11:40:42:INFO] Running XGBoost Sagemaker in algorithm mode\u001b[0m\n",
      "\u001b[34m[2023-07-26:11:40:42:INFO] Determined 0 GPU(s) available on the instance.\u001b[0m\n",
      "\u001b[34m[2023-07-26:11:40:42:INFO] Determined delimiter of CSV input is ','\u001b[0m\n",
      "\u001b[34m[2023-07-26:11:40:42:INFO] Determined delimiter of CSV input is ','\u001b[0m\n",
      "\u001b[34m[2023-07-26:11:40:42:INFO] files path: /opt/ml/input/data/train\u001b[0m\n",
      "\u001b[34m[2023-07-26:11:40:42:INFO] Determined delimiter of CSV input is ','\u001b[0m\n",
      "\u001b[34m[2023-07-26:11:40:42:INFO] files path: /opt/ml/input/data/validation\u001b[0m\n",
      "\u001b[34m[2023-07-26:11:40:42:INFO] Determined delimiter of CSV input is ','\u001b[0m\n",
      "\u001b[34m[2023-07-26:11:40:42:INFO] Single node training.\u001b[0m\n",
      "\u001b[34m[2023-07-26:11:40:42:INFO] Train matrix has 28831 rows and 59 columns\u001b[0m\n",
      "\u001b[34m[2023-07-26:11:40:42:INFO] Validation matrix has 12357 rows\u001b[0m\n",
      "\u001b[34m[2023-07-26 11:40:42.691 ip-10-0-185-208.eu-north-1.compute.internal:7 INFO json_config.py:92] Creating hook from json_config at /opt/ml/input/config/debughookconfig.json.\u001b[0m\n",
      "\u001b[34m[2023-07-26 11:40:42.692 ip-10-0-185-208.eu-north-1.compute.internal:7 INFO hook.py:206] tensorboard_dir has not been set for the hook. SMDebug will not be exporting tensorboard summaries.\u001b[0m\n",
      "\u001b[34m[2023-07-26 11:40:42.692 ip-10-0-185-208.eu-north-1.compute.internal:7 INFO hook.py:259] Saving to /opt/ml/output/tensors\u001b[0m\n",
      "\u001b[34m[2023-07-26 11:40:42.692 ip-10-0-185-208.eu-north-1.compute.internal:7 INFO state_store.py:77] The checkpoint config file /opt/ml/input/config/checkpointconfig.json does not exist.\u001b[0m\n",
      "\u001b[34m[2023-07-26:11:40:42:INFO] Debug hook created from config\u001b[0m\n",
      "\u001b[34m[0]#011train-logloss:0.57348#011validation-logloss:0.57368\u001b[0m\n",
      "\u001b[34m[2023-07-26 11:40:42.801 ip-10-0-185-208.eu-north-1.compute.internal:7 INFO hook.py:427] Monitoring the collections: metrics\u001b[0m\n",
      "\u001b[34m[2023-07-26 11:40:42.806 ip-10-0-185-208.eu-north-1.compute.internal:7 INFO hook.py:491] Hook is writing from the hook with pid: 7\u001b[0m\n",
      "\u001b[34m[1]#011train-logloss:0.49381#011validation-logloss:0.49402\u001b[0m\n",
      "\u001b[34m[2]#011train-logloss:0.43857#011validation-logloss:0.43870\u001b[0m\n",
      "\u001b[34m[3]#011train-logloss:0.39879#011validation-logloss:0.39890\u001b[0m\n",
      "\u001b[34m[4]#011train-logloss:0.36998#011validation-logloss:0.37008\u001b[0m\n",
      "\u001b[34m[5]#011train-logloss:0.34824#011validation-logloss:0.34820\u001b[0m\n",
      "\u001b[34m[6]#011train-logloss:0.33205#011validation-logloss:0.33176\u001b[0m\n",
      "\u001b[34m[7]#011train-logloss:0.32035#011validation-logloss:0.32002\u001b[0m\n",
      "\u001b[34m[8]#011train-logloss:0.31192#011validation-logloss:0.31158\u001b[0m\n",
      "\u001b[34m[9]#011train-logloss:0.30539#011validation-logloss:0.30545\u001b[0m\n",
      "\u001b[34m[10]#011train-logloss:0.30048#011validation-logloss:0.30034\u001b[0m\n",
      "\u001b[34m[11]#011train-logloss:0.29631#011validation-logloss:0.29639\u001b[0m\n",
      "\u001b[34m[12]#011train-logloss:0.29358#011validation-logloss:0.29363\u001b[0m\n",
      "\u001b[34m[13]#011train-logloss:0.29152#011validation-logloss:0.29161\u001b[0m\n",
      "\u001b[34m[14]#011train-logloss:0.28981#011validation-logloss:0.28993\u001b[0m\n",
      "\u001b[34m[15]#011train-logloss:0.28855#011validation-logloss:0.28883\u001b[0m\n",
      "\u001b[34m[16]#011train-logloss:0.28731#011validation-logloss:0.28760\u001b[0m\n",
      "\u001b[34m[17]#011train-logloss:0.28647#011validation-logloss:0.28689\u001b[0m\n",
      "\u001b[34m[18]#011train-logloss:0.28566#011validation-logloss:0.28632\u001b[0m\n",
      "\u001b[34m[19]#011train-logloss:0.28498#011validation-logloss:0.28596\u001b[0m\n",
      "\u001b[34m[20]#011train-logloss:0.28436#011validation-logloss:0.28552\u001b[0m\n",
      "\u001b[34m[21]#011train-logloss:0.28394#011validation-logloss:0.28496\u001b[0m\n",
      "\u001b[34m[22]#011train-logloss:0.28347#011validation-logloss:0.28450\u001b[0m\n",
      "\u001b[34m[23]#011train-logloss:0.28309#011validation-logloss:0.28427\u001b[0m\n",
      "\u001b[34m[24]#011train-logloss:0.28252#011validation-logloss:0.28389\u001b[0m\n",
      "\u001b[34m[25]#011train-logloss:0.28219#011validation-logloss:0.28376\u001b[0m\n",
      "\u001b[34m[26]#011train-logloss:0.28180#011validation-logloss:0.28386\u001b[0m\n",
      "\u001b[34m[27]#011train-logloss:0.28115#011validation-logloss:0.28353\u001b[0m\n",
      "\u001b[34m[28]#011train-logloss:0.28101#011validation-logloss:0.28365\u001b[0m\n",
      "\u001b[34m[29]#011train-logloss:0.28081#011validation-logloss:0.28365\u001b[0m\n",
      "\u001b[34m[30]#011train-logloss:0.28048#011validation-logloss:0.28331\u001b[0m\n",
      "\u001b[34m[31]#011train-logloss:0.28038#011validation-logloss:0.28336\u001b[0m\n",
      "\u001b[34m[32]#011train-logloss:0.28009#011validation-logloss:0.28331\u001b[0m\n",
      "\u001b[34m[33]#011train-logloss:0.27987#011validation-logloss:0.28316\u001b[0m\n",
      "\u001b[34m[34]#011train-logloss:0.27950#011validation-logloss:0.28282\u001b[0m\n",
      "\u001b[34m[35]#011train-logloss:0.27938#011validation-logloss:0.28277\u001b[0m\n",
      "\u001b[34m[36]#011train-logloss:0.27907#011validation-logloss:0.28274\u001b[0m\n",
      "\u001b[34m[37]#011train-logloss:0.27880#011validation-logloss:0.28256\u001b[0m\n",
      "\u001b[34m[38]#011train-logloss:0.27854#011validation-logloss:0.28239\u001b[0m\n",
      "\u001b[34m[39]#011train-logloss:0.27846#011validation-logloss:0.28240\u001b[0m\n",
      "\u001b[34m[40]#011train-logloss:0.27829#011validation-logloss:0.28252\u001b[0m\n",
      "\u001b[34m[41]#011train-logloss:0.27807#011validation-logloss:0.28250\u001b[0m\n",
      "\u001b[34m[42]#011train-logloss:0.27796#011validation-logloss:0.28252\u001b[0m\n",
      "\u001b[34m[43]#011train-logloss:0.27795#011validation-logloss:0.28253\u001b[0m\n",
      "\u001b[34m[44]#011train-logloss:0.27786#011validation-logloss:0.28256\u001b[0m\n",
      "\u001b[34m[45]#011train-logloss:0.27756#011validation-logloss:0.28258\u001b[0m\n",
      "\u001b[34m[46]#011train-logloss:0.27717#011validation-logloss:0.28264\u001b[0m\n",
      "\u001b[34m[47]#011train-logloss:0.27704#011validation-logloss:0.28259\u001b[0m\n",
      "\u001b[34m[48]#011train-logloss:0.27684#011validation-logloss:0.28246\u001b[0m\n",
      "\u001b[34m[49]#011train-logloss:0.27665#011validation-logloss:0.28246\u001b[0m\n",
      "\n",
      "2023-07-26 11:40:59 Completed - Training job completed\n",
      "Training seconds: 77\n",
      "Billable seconds: 22\n",
      "Managed Spot Training savings: 71.4%\n"
     ]
    }
   ],
   "source": [
    "estimator.fit({'train': s3_input_train, 'validation': s3_input_test})"
   ]
  },
  {
   "cell_type": "markdown",
   "id": "1100fb09-712c-478b-a556-63f8637af2b3",
   "metadata": {},
   "source": [
    "## Deploy the model"
   ]
  },
  {
   "cell_type": "code",
   "execution_count": 13,
   "id": "f9cc771d-b471-49fb-b738-866a12489314",
   "metadata": {
    "tags": []
   },
   "outputs": [
    {
     "name": "stderr",
     "output_type": "stream",
     "text": [
      "INFO:sagemaker:Creating model with name: sagemaker-xgboost-2023-07-26-11-42-06-933\n",
      "INFO:sagemaker:Creating endpoint-config with name sagemaker-xgboost-2023-07-26-11-42-06-933\n",
      "INFO:sagemaker:Creating endpoint with name sagemaker-xgboost-2023-07-26-11-42-06-933\n"
     ]
    },
    {
     "name": "stdout",
     "output_type": "stream",
     "text": [
      "----!"
     ]
    }
   ],
   "source": [
    "xgb_predictor = estimator.deploy(initial_instance_count=1,\n",
    "                                 instance_type='ml.m5.xlarge')"
   ]
  },
  {
   "cell_type": "markdown",
   "id": "048b486d-e89f-43be-9fad-80aa5796ca5d",
   "metadata": {},
   "source": [
    "## Prediction"
   ]
  },
  {
   "cell_type": "code",
   "execution_count": 15,
   "id": "f34d9021-6432-4d27-9fb7-5c74073b5697",
   "metadata": {
    "tags": []
   },
   "outputs": [
    {
     "name": "stdout",
     "output_type": "stream",
     "text": [
      "(12357,)\n"
     ]
    }
   ],
   "source": [
    "# Create a predictor\n",
    "endpoint = xgb_predictor.endpoint_name\n",
    "predictor = Predictor(endpoint)\n",
    "\n",
    "# Set the content type and serializer type\n",
    "predictor.content_type = 'text/csv'\n",
    "predictor.serializer = sagemaker.serializers.CSVSerializer()\n",
    "\n",
    "# Define the test data\n",
    "test_data_array = test_data.drop(['y_no', 'y_yes'], axis=1).values\n",
    "\n",
    "# Make predictions\n",
    "predictions = predictor.predict(test_data_array).decode('utf-8')\n",
    "\n",
    "# Process the prediction result\n",
    "predictions_array = np.fromstring(predictions[1:], sep='\\n')\n",
    "\n",
    "# Print the shape of the predictions array\n",
    "print(predictions_array.shape)"
   ]
  },
  {
   "cell_type": "code",
   "execution_count": 16,
   "id": "092a7428-4791-4125-a6bb-d8d096e24fe2",
   "metadata": {
    "tags": []
   },
   "outputs": [
    {
     "data": {
      "text/plain": [
       "array([0.02587362, 0.02734977, 0.08641617, ..., 0.68751293, 0.04483907,\n",
       "       0.10314494])"
      ]
     },
     "execution_count": 16,
     "metadata": {},
     "output_type": "execute_result"
    }
   ],
   "source": [
    "predictions_array"
   ]
  },
  {
   "cell_type": "code",
   "execution_count": 17,
   "id": "c058ed15-b491-4efd-96bb-bb4d17298b4c",
   "metadata": {
    "tags": []
   },
   "outputs": [
    {
     "name": "stdout",
     "output_type": "stream",
     "text": [
      "Metrics\n",
      "\n",
      "accuracy: 89.8%\n",
      "precision: 65.8%\n",
      "recall:    21.0%\n",
      "f1 score:  31.8%\n",
      "\n",
      "\n",
      "Predicted      No Purchase    Purchase\n",
      "Observed\n",
      "No Purchase    91% (10809)    34% (152)\n",
      "Purchase        9% (1103)     66% (293) \n",
      "\n"
     ]
    }
   ],
   "source": [
    "# Initialize the confusion matrix\n",
    "cm = pd.crosstab(index=test_data['y_yes'],\n",
    "                 columns=np.round(predictions_array),\n",
    "                 rownames=['Observed'],\n",
    "                 colnames=['Predicted'])\n",
    "\n",
    "tn = cm.iloc[0, 0]  # true negative\n",
    "fn = cm.iloc[1, 0]  # false negtive\n",
    "tp = cm.iloc[1, 1]  # true positive\n",
    "fp = cm.iloc[0, 1]  # false positive\n",
    "\n",
    "# metrics\n",
    "accuracy = (tp+tn)/(tp+tn+fp+fn) * 100\n",
    "precision = tp / (tp+fp) * 100\n",
    "recall = tp / (tp + fn) * 100\n",
    "f1 = 2*(precision*recall)/(precision+recall)\n",
    "\n",
    "print(\"Metrics\\n\")\n",
    "print(f\"accuracy: {accuracy:<4.1f}%\")\n",
    "print(f\"precision: {precision: <4.1f}%\")\n",
    "print(f\"recall:    {recall: <4.1f}%\")\n",
    "print(f\"f1 score:  {f1: <4.1f}%\")\n",
    "print(\"\\n\")\n",
    "print(f\"{'Predicted':<15}{'No Purchase':<15}{'Purchase':>8}\")\n",
    "print(\"Observed\")\n",
    "print(f\"{'No Purchase':<15}{tn/(tn+fn)*100:<2.0f}% ({tn:<}){fp/(tp+fp)*100:>6.0f}% ({fp:<})\")\n",
    "print(f\"{'Purchase':<16}{fn/(tn+fn)*100:<1.0f}% ({fn:<}){tp/(tp+fp)*100:>7.0f}% ({tp:<}) \\n\")"
   ]
  },
  {
   "cell_type": "markdown",
   "id": "a233b4ae-fe93-4840-9365-ad6046a3f2b5",
   "metadata": {},
   "source": [
    "the metrics indicate an imbalanced dataset"
   ]
  },
  {
   "cell_type": "markdown",
   "id": "4225255d-29b8-484c-b0fd-264e0c7e06c2",
   "metadata": {},
   "source": [
    "## Delete Endpoint"
   ]
  },
  {
   "cell_type": "code",
   "execution_count": 18,
   "id": "31a3fa92-0bda-40e6-8462-2cb594d9199a",
   "metadata": {
    "tags": []
   },
   "outputs": [
    {
     "name": "stderr",
     "output_type": "stream",
     "text": [
      "INFO:sagemaker:Deleting endpoint configuration with name: sagemaker-xgboost-2023-07-26-11-42-06-933\n",
      "INFO:sagemaker:Deleting endpoint with name: sagemaker-xgboost-2023-07-26-11-42-06-933\n"
     ]
    },
    {
     "data": {
      "text/plain": [
       "[{'ResponseMetadata': {'RequestId': 'DKBXZZBE1EG42HT6',\n",
       "   'HostId': 'DyMF9qWX7Au17CMZwhER0D8/lHBOMkuNerqfmOAoLFjXkMrSLb5O6WMkfKBv7d5YCC0gDQBpMDw=',\n",
       "   'HTTPStatusCode': 200,\n",
       "   'HTTPHeaders': {'x-amz-id-2': 'DyMF9qWX7Au17CMZwhER0D8/lHBOMkuNerqfmOAoLFjXkMrSLb5O6WMkfKBv7d5YCC0gDQBpMDw=',\n",
       "    'x-amz-request-id': 'DKBXZZBE1EG42HT6',\n",
       "    'date': 'Wed, 26 Jul 2023 11:45:42 GMT',\n",
       "    'content-type': 'application/xml',\n",
       "    'transfer-encoding': 'chunked',\n",
       "    'server': 'AmazonS3',\n",
       "    'connection': 'close'},\n",
       "   'RetryAttempts': 0},\n",
       "  'Deleted': [{'Key': 'xgboost-algo/test/test.csv'},\n",
       "   {'Key': 'xgboost-algo/output/sagemaker-xgboost-2023-07-26-11-37-53-555/debug-output/index/000000000/000000000030_worker_0.json'},\n",
       "   {'Key': 'xgboost-algo/output/sagemaker-xgboost-2023-07-26-11-37-53-555/debug-output/collections/000000000/worker_0_collections.json'},\n",
       "   {'Key': 'xgboost-algo/output/sagemaker-xgboost-2023-07-26-11-37-53-555/debug-output/index/000000000/000000000020_worker_0.json'},\n",
       "   {'Key': 'xgboost-algo/output/sagemaker-xgboost-2023-07-26-11-37-53-555/profiler-output/system/incremental/2023072611/1690371540.algo-1.json'},\n",
       "   {'Key': 'xgboost-algo/train/train.csv'},\n",
       "   {'Key': 'xgboost-algo/output/sagemaker-xgboost-2023-07-26-11-37-53-555/debug-output/events/000000000020/000000000020_worker_0.tfevents'},\n",
       "   {'Key': 'xgboost-algo/output/sagemaker-xgboost-2023-07-26-11-37-53-555/debug-output/events/000000000040/000000000040_worker_0.tfevents'},\n",
       "   {'Key': 'xgboost-algo/output/sagemaker-xgboost-2023-07-26-11-37-53-555/debug-output/events/000000000000/000000000000_worker_0.tfevents'},\n",
       "   {'Key': 'xgboost-algo/output/sagemaker-xgboost-2023-07-26-11-37-53-555/debug-output/index/000000000/000000000040_worker_0.json'},\n",
       "   {'Key': 'xgboost-algo/output/sagemaker-xgboost-2023-07-26-11-37-53-555/debug-output/training_job_end.ts'},\n",
       "   {'Key': 'xgboost-algo/output/sagemaker-xgboost-2023-07-26-11-37-53-555/profiler-output/system/training_job_end.ts'},\n",
       "   {'Key': 'xgboost-algo/output/sagemaker-xgboost-2023-07-26-11-37-53-555/debug-output/claim.smd'},\n",
       "   {'Key': 'xgboost-algo/output/sagemaker-xgboost-2023-07-26-11-37-53-555/debug-output/index/000000000/000000000010_worker_0.json'},\n",
       "   {'Key': 'xgboost-algo/output/sagemaker-xgboost-2023-07-26-11-37-53-555/profiler-output/system/incremental/2023072611/1690371600.algo-1.json'},\n",
       "   {'Key': 'xgboost-algo/output/sagemaker-xgboost-2023-07-26-11-37-53-555/output/model.tar.gz'},\n",
       "   {'Key': 'xgboost-algo/output/sagemaker-xgboost-2023-07-26-11-37-53-555/debug-output/events/000000000030/000000000030_worker_0.tfevents'},\n",
       "   {'Key': 'xgboost-algo/output/sagemaker-xgboost-2023-07-26-11-37-53-555/debug-output/index/000000000/000000000000_worker_0.json'},\n",
       "   {'Key': 'xgboost-algo/output/sagemaker-xgboost-2023-07-26-11-37-53-555/profiler-output/framework/training_job_end.ts'},\n",
       "   {'Key': 'xgboost-algo/output/sagemaker-xgboost-2023-07-26-11-37-53-555/debug-output/events/000000000010/000000000010_worker_0.tfevents'}]}]"
      ]
     },
     "execution_count": 18,
     "metadata": {},
     "output_type": "execute_result"
    }
   ],
   "source": [
    "# delete the endpoint\n",
    "predictor.delete_endpoint()\n",
    "\n",
    "# delete the files from bucket\n",
    "bucket_to_delete = boto3.resource('s3').Bucket(bucket_name)\n",
    "bucket_to_delete.objects.all().delete()"
   ]
  }
 ],
 "metadata": {
  "kernelspec": {
   "display_name": "conda_python3",
   "language": "python",
   "name": "conda_python3"
  },
  "language_info": {
   "codemirror_mode": {
    "name": "ipython",
    "version": 3
   },
   "file_extension": ".py",
   "mimetype": "text/x-python",
   "name": "python",
   "nbconvert_exporter": "python",
   "pygments_lexer": "ipython3",
   "version": "3.10.10"
  }
 },
 "nbformat": 4,
 "nbformat_minor": 5
}
